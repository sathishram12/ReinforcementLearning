{
 "cells": [
  {
   "cell_type": "markdown",
   "metadata": {},
   "source": [
    "# Reinforcement Learning"
   ]
  },
  {
   "cell_type": "markdown",
   "metadata": {},
   "source": [
    "# Introduction"
   ]
  },
  {
   "cell_type": "markdown",
   "metadata": {},
   "source": [
    "- \"A gazelle calf struggles to its feet minutes after being born. Half an hour later it is running at 20 miles per hour.\" - Sutton and Barto"
   ]
  },
  {
   "cell_type": "markdown",
   "metadata": {},
   "source": [
    "<img src=\"images/gazelle.jpeg\" style=\"width: 600px;\"/>"
   ]
  },
  {
   "cell_type": "markdown",
   "metadata": {},
   "source": [
    "- Google's AlphaGo used deep reinforcement learning in order to defeat world champion Lee Sedol at Go."
   ]
  },
  {
   "cell_type": "markdown",
   "metadata": {},
   "source": [
    "<img src=\"images/go.jpg\" style=\"width: 600px;\"/>"
   ]
  },
  {
   "cell_type": "markdown",
   "metadata": {},
   "source": [
    "# Goal\n",
    "\n",
    "- Agent interacts dynamically with its environment, moves from one state to another. \n",
    "- Based on the actions taken by the agent, rewards are given. \n",
    "- Guidelines for which action to take in each state is called a policy.\n",
    "- Try to efficiently find an optimal policy in which rewards are maximized.\n"
   ]
  },
  {
   "cell_type": "markdown",
   "metadata": {},
   "source": [
    "<img src=\"images/RL_diagram.png\" style=\"width: 600px;\">"
   ]
  },
  {
   "cell_type": "markdown",
   "metadata": {},
   "source": [
    "# Exploration vs Exploitation"
   ]
  },
  {
   "cell_type": "markdown",
   "metadata": {},
   "source": [
    "- In the absence of a Supervisor, the agent must exlore the environment in order to gain information about rewards, while exploiting it's current information to maximize it's rewards.\n",
    "\n",
    "- Balancing this tradeoff is a common theme"
   ]
  },
  {
   "cell_type": "markdown",
   "metadata": {},
   "source": [
    "# Multi-Armed Bandits - A single state example"
   ]
  },
  {
   "cell_type": "markdown",
   "metadata": {},
   "source": [
    "* Given N different arms to choose from, each with an unknown reward, what strategy should we use to explore and learn the values of each arm, while exploiting our current knowledge to maximize profit?\n",
    "* This is a very common approach for optimizing online marketing campaigns.\n",
    "* This can be thought of as a single-state reinforcement learning problem\n",
    "\n",
    "<img src=\"images/MAB.jpg\" style=\"width: 400px;\"/>\n",
    "\n"
   ]
  },
  {
   "cell_type": "markdown",
   "metadata": {},
   "source": [
    "## Epsilon-greedy"
   ]
  },
  {
   "cell_type": "markdown",
   "metadata": {},
   "source": [
    "- A fraction (1 - $\\epsilon$) of the time, choose the arm with the largest estimated value (exploit)\n",
    "- The other $\\epsilon$ of the time, chose a random arm (explore)\n",
    "- Tune $\\epsilon$ in order to balance tradeoff\n",
    "\n",
    "<img src=\"images/epsilongreedy.png\" style=\"width: 400px;\"/>"
   ]
  },
  {
   "cell_type": "code",
   "execution_count": 1,
   "metadata": {},
   "outputs": [],
   "source": [
    "%matplotlib inline\n",
    "import numpy as np\n",
    "import matplotlib.pyplot as plt"
   ]
  },
  {
   "cell_type": "markdown",
   "metadata": {},
   "source": [
    "- Let true arm values be normally distributed with mean of 0, variance of 1\n",
    "- Add a noise term to each reward, also normally distributed with mean of 0, variance of 1"
   ]
  },
  {
   "cell_type": "code",
   "execution_count": 2,
   "metadata": {},
   "outputs": [],
   "source": [
    "class Bandit:\n",
    "    def __init__(self):\n",
    "        self.arm_values = np.random.normal(0,1,10)  # mean, sd, array_size\n",
    "        self.K = np.zeros(10)                     \n",
    "        self.est_values = np.zeros(10)\n",
    "        \n",
    "    def get_reward(self,action):\n",
    "        noise = np.random.normal(0,1)\n",
    "        reward = self.arm_values[action] + noise\n",
    "        return reward\n",
    "    \n",
    "    def choose_eps_greedy(self,epsilon):\n",
    "        rand_num = np.random.random()\n",
    "        if epsilon>rand_num:\n",
    "            return np.random.randint(10)\n",
    "        else:\n",
    "            return np.argmax(self.est_values)\n",
    "    \n",
    "    def update_est(self,action,reward):\n",
    "        self.K[action] += 1\n",
    "        alpha = 1./self.K[action]\n",
    "        self.est_values[action] += alpha * (reward - self.est_values[action])  # keeps running average of rewards"
   ]
  },
  {
   "cell_type": "markdown",
   "metadata": {},
   "source": [
    "A single experiment consists of pulling the arm Npulls times for a given 10 armed bandit."
   ]
  },
  {
   "cell_type": "code",
   "execution_count": 3,
   "metadata": {},
   "outputs": [],
   "source": [
    "def experiment(bandit,Npulls,epsilon):\n",
    "    history = []\n",
    "    for i in range(Npulls):\n",
    "        action = bandit.choose_eps_greedy(epsilon)\n",
    "        R = bandit.get_reward(action)\n",
    "        bandit.update_est(action,R)\n",
    "        history.append(R)\n",
    "    return np.array(history)"
   ]
  },
  {
   "cell_type": "markdown",
   "metadata": {},
   "source": [
    "Repeat experiment many times and look at the evolution of the rewards, averaged over all the experiments"
   ]
  },
  {
   "cell_type": "code",
   "execution_count": 4,
   "metadata": {},
   "outputs": [],
   "source": [
    "Nexp = 500         # number of bandit problems\n",
    "Npulls = 3000      # number of times to pull each arm\n",
    "\n",
    "avg_outcome_eps0p0 = np.zeros(Npulls)\n",
    "avg_outcome_eps0p01 = np.zeros(Npulls)\n",
    "avg_outcome_eps0p1 = np.zeros(Npulls)\n",
    "\n",
    "for i in range(Nexp):\n",
    "    bandit = Bandit()\n",
    "    avg_outcome_eps0p0 += experiment(bandit,Npulls,0.0)\n",
    "    bandit = Bandit()\n",
    "    avg_outcome_eps0p01 += experiment(bandit,Npulls,0.01)\n",
    "    bandit = Bandit()\n",
    "    avg_outcome_eps0p1 += experiment(bandit,Npulls,0.1)\n",
    "\n",
    "avg_outcome_eps0p0 /= np.float(Nexp)\n",
    "avg_outcome_eps0p01 /= np.float(Nexp)\n",
    "avg_outcome_eps0p1 /= np.float(Nexp)"
   ]
  },
  {
   "cell_type": "code",
   "execution_count": 16,
   "metadata": {},
   "outputs": [
    {
     "ename": "AttributeError",
     "evalue": "module 'matplotlib.pyplot' has no attribute 'set_ylabel'",
     "output_type": "error",
     "traceback": [
      "\u001b[0;31m---------------------------------------------------------------------------\u001b[0m",
      "\u001b[0;31mAttributeError\u001b[0m                            Traceback (most recent call last)",
      "\u001b[0;32m<ipython-input-16-b418c0ae1a85>\u001b[0m in \u001b[0;36m<module>\u001b[0;34m\u001b[0m\n\u001b[1;32m      3\u001b[0m \u001b[0mplt\u001b[0m\u001b[0;34m.\u001b[0m\u001b[0mplot\u001b[0m\u001b[0;34m(\u001b[0m\u001b[0mavg_outcome_eps0p1\u001b[0m\u001b[0;34m,\u001b[0m\u001b[0mlabel\u001b[0m\u001b[0;34m=\u001b[0m\u001b[0;34m\"eps = 0.1\"\u001b[0m\u001b[0;34m)\u001b[0m\u001b[0;34m\u001b[0m\u001b[0;34m\u001b[0m\u001b[0m\n\u001b[1;32m      4\u001b[0m \u001b[0mplt\u001b[0m\u001b[0;34m.\u001b[0m\u001b[0mtitle\u001b[0m\u001b[0;34m(\u001b[0m\u001b[0;34mr'$\\epsilon$-greedy : Average Reward Vs Steps for 10 arms'\u001b[0m\u001b[0;34m)\u001b[0m\u001b[0;34m\u001b[0m\u001b[0;34m\u001b[0m\u001b[0m\n\u001b[0;32m----> 5\u001b[0;31m \u001b[0mplt\u001b[0m\u001b[0;34m.\u001b[0m\u001b[0mset_ylabel\u001b[0m\u001b[0;34m(\u001b[0m\u001b[0;34m'Average Reward'\u001b[0m\u001b[0;34m)\u001b[0m\u001b[0;34m\u001b[0m\u001b[0;34m\u001b[0m\u001b[0m\n\u001b[0m\u001b[1;32m      6\u001b[0m \u001b[0mplt\u001b[0m\u001b[0;34m.\u001b[0m\u001b[0mylim\u001b[0m\u001b[0;34m(\u001b[0m\u001b[0;36m0\u001b[0m\u001b[0;34m,\u001b[0m\u001b[0;36m1.8\u001b[0m\u001b[0;34m)\u001b[0m\u001b[0;34m\u001b[0m\u001b[0;34m\u001b[0m\u001b[0m\n\u001b[1;32m      7\u001b[0m \u001b[0mplt\u001b[0m\u001b[0;34m.\u001b[0m\u001b[0mlegend\u001b[0m\u001b[0;34m(\u001b[0m\u001b[0;34m)\u001b[0m\u001b[0;34m\u001b[0m\u001b[0;34m\u001b[0m\u001b[0m\n",
      "\u001b[0;31mAttributeError\u001b[0m: module 'matplotlib.pyplot' has no attribute 'set_ylabel'"
     ]
    },
    {
     "data": {
      "image/png": "[encoded data removed]",
      "text/plain": [
       "<Figure size 432x288 with 1 Axes>"
      ]
     },
     "metadata": {
      "needs_background": "light"
     },
     "output_type": "display_data"
    }
   ],
   "source": [
    "plt.plot(avg_outcome_eps0p0,label=\"eps = 0.0\")\n",
    "plt.plot(avg_outcome_eps0p01,label=\"eps = 0.01\")\n",
    "plt.plot(avg_outcome_eps0p1,label=\"eps = 0.1\")\n",
    "plt.title(r'$\\epsilon$-greedy : Average Reward Vs Steps for 10 arms')\n",
    "plt.ylim(0,1.8)\n",
    "plt.legend()\n",
    "plt.show()"
   ]
  },
  {
   "cell_type": "code",
   "execution_count": null,
   "metadata": {},
   "outputs": [],
   "source": []
  }
 ],
 "metadata": {
  "kernelspec": {
   "display_name": "Python 2",
   "language": "python",
   "name": "python2"
  },
  "language_info": {
   "codemirror_mode": {
    "name": "ipython",
    "version": 3
   },
   "file_extension": ".py",
   "mimetype": "text/x-python",
   "name": "python",
   "nbconvert_exporter": "python",
   "pygments_lexer": "ipython3",
   "version": "3.6.9"
  }
 },
 "nbformat": 4,
 "nbformat_minor": 1
}
